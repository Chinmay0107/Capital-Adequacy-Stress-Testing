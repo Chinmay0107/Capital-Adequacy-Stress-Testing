{
 "cells": [
  {
   "cell_type": "code",
   "execution_count": 33,
   "id": "9b826365-2e46-48a3-a5ba-5bdd74259dc4",
   "metadata": {},
   "outputs": [],
   "source": [
    "import streamlit as st\n",
    "import numpy as np\n",
    "import matplotlib.pyplot as plt\n",
    "\n",
    "# 15 Predefined Scenarios\n",
    "SCENARIOS = {\n",
    "    \"Economic Recession\": {\"GDP Growth\": -5, \"Inflation\": 2, \"Loan Default Rate\": 10, \"Liquidity Drop\": 15},\n",
    "    \"High Inflation\": {\"GDP Growth\": 0, \"Inflation\": 8, \"Loan Default Rate\": 5, \"Liquidity Drop\": 10},\n",
    "    \"Market Crash\": {\"GDP Growth\": -3, \"Inflation\": 1, \"Loan Default Rate\": 12, \"Liquidity Drop\": 20},\n",
    "    \"Credit Crisis\": {\"GDP Growth\": -7, \"Inflation\": 3, \"Loan Default Rate\": 15, \"Liquidity Drop\": 25},\n",
    "    \"Interest Rate Hike\": {\"GDP Growth\": -2, \"Inflation\": 6, \"Loan Default Rate\": 8, \"Liquidity Drop\": 10},\n",
    "    \"Pandemic Outbreak\": {\"GDP Growth\": -8, \"Inflation\": 2, \"Loan Default Rate\": 20, \"Liquidity Drop\": 30},\n",
    "    \"Geo-Political Conflict\": {\"GDP Growth\": -6, \"Inflation\": 5, \"Loan Default Rate\": 10, \"Liquidity Drop\": 20},\n",
    "    \"Technology Bubble Burst\": {\"GDP Growth\": -4, \"Inflation\": 1, \"Loan Default Rate\": 12, \"Liquidity Drop\": 18},\n",
    "    \"Climate Change Impact\": {\"GDP Growth\": -3, \"Inflation\": 4, \"Loan Default Rate\": 6, \"Liquidity Drop\": 10},\n",
    "    \"Cybersecurity Breach\": {\"GDP Growth\": -2, \"Inflation\": 1, \"Loan Default Rate\": 8, \"Liquidity Drop\": 15},\n",
    "    \"Regulatory Tightening\": {\"GDP Growth\": -1, \"Inflation\": 3, \"Loan Default Rate\": 5, \"Liquidity Drop\": 12},\n",
    "    \"Commodity Price Shock\": {\"GDP Growth\": -5, \"Inflation\": 7, \"Loan Default Rate\": 10, \"Liquidity Drop\": 15},\n",
    "    \"Natural Disaster\": {\"GDP Growth\": -6, \"Inflation\": 3, \"Loan Default Rate\": 12, \"Liquidity Drop\": 20},\n",
    "    \"Energy Crisis\": {\"GDP Growth\": -4, \"Inflation\": 6, \"Loan Default Rate\": 10, \"Liquidity Drop\": 18},\n",
    "    \"Bank Run\": {\"GDP Growth\": -8, \"Inflation\": 2, \"Loan Default Rate\": 25, \"Liquidity Drop\": 40},\n",
    "}\n",
    "#Function to calculate Capital Adequacy Ratio (CAR)\n",
    "def calculate_car(capital, rwa):\n",
    "    return (capital / rwa) * 100\n",
    "\n",
    "#Stress Testing Function\n",
    "def perform_stress_test(scenario, capital, rwa, liquidity):\n",
    "    stress = SCENARIOS[scenario]\n",
    "    gdp_impact = stress[\"GDP Growth\"] * 0.01 * rwa\n",
    "    loan_defaults = stress[\"Loan Default Rate\"] * 0.01 * rwa\n",
    "    liquidity_drop = stress[\"Liquidity Drop\"] * 0.01 * liquidity\n",
    "    post_stress_rwa = rwa + loan_defaults\n",
    "    post_stress_capital = capital - loan_defaults - gdp_impact\n",
    "    post_stress_liquidity = liquidity - liquidity_drop\n",
    "    car = calculate_car(post_stress_capital, post_stress_rwa)\n",
    "    return car, post_stress_capital, post_stress_liquidity"
   ]
  },
  {
   "cell_type": "code",
   "execution_count": 35,
   "id": "d675690a-f75a-4e47-b586-c354570d8eda",
   "metadata": {},
   "outputs": [
    {
     "data": {
      "text/plain": [
       "DeltaGenerator()"
      ]
     },
     "execution_count": 35,
     "metadata": {},
     "output_type": "execute_result"
    }
   ],
   "source": [
    "#stream lit\n",
    "st.title(\"Capital Adequacy Stress Testing Dashboard\")\n",
    "#User Inputs\n",
    "st.sidebar.header(\"Regulatory Inputs\")\n",
    "min_car = st.sidebar.number_input(\"Minimum CAR (%)\", value = 8.0)\n",
    "initital_capital = st.sidebar.number_input(\"Initial Capital ($M)\", value= 1000.0)\n",
    "initial_rwa = st.sidebar.number_input(\"Initial Risk-Weighted Assets (RWA) ($M)\", value = 5000.0)\n",
    "initial_liquidity = st.sidebar.number_input(\"Initial Liquidity ($M)\", value = 2000.0)\n",
    "\n",
    "st.sidebar.header(\"Scenario Selection\")\n",
    "selected_scenario = st.sidebar.selectbox(\"Select Stress Testing Scenario\", list(SCENARIOS.keys()))\n",
    "\n",
    "# Modify Scenario Parameters\n",
    "st.sidebar.header(\"Adjust Scenario Parameters\")\n",
    "gdp_growth = st.sidebar.slider(\"GDP Growth (%)\", -10, 5, SCENARIOS[selected_scenario][\"GDP Growth\"])\n",
    "inflation = st.sidebar.slider(\"Inflation Rate (%)\", 0, 10, SCENARIOS[selected_scenario][\"Inflation\"])\n",
    "loan_default_rate = st.sidebar.slider(\"Loan Default Rate (%)\", 0, 30, SCENARIOS[selected_scenario][\"Loan Default Rate\"])\n",
    "liquidity_drop = st.sidebar.slider(\"Liquidity Drop (%)\", 0, 50, SCENARIOS[selected_scenario][\"Liquidity Drop\"])\n",
    "\n",
    "# Update scenario parameters based on user inputs\n",
    "SCENARIOS[selected_scenario] = {\n",
    "    \"GDP Growth\": gdp_growth,\n",
    "    \"Inflation\": inflation,\n",
    "    \"Loan Default Rate\": loan_default_rate,\n",
    "    \"Liquidity Drop\": liquidity_drop,\n",
    "}\n",
    "\n",
    "# Perform Stress Test\n",
    "car, post_capital, post_liquidity = perform_stress_test(\n",
    "    selected_scenario, initial_capital, initial_rwa, initial_liquidity\n",
    ")\n",
    "\n",
    "# Display Results\n",
    "st.subheader(f\"Results for {selected_scenario}\")\n",
    "st.write(f\"**Post-Stress Capital Adequacy Ratio (CAR):** {car:.2f}%\")\n",
    "st.write(f\"**Post-Stress Capital:** ${post_capital:.2f}M\")\n",
    "st.write(f\"**Post-Stress Liquidity:** ${post_liquidity:.2f}M\")\n",
    "\n",
    "if car < min_car:\n",
    "    st.error(\"Warning: CAR is below the regulatory minimum!\")\n",
    "else:\n",
    "    st.success(\"CAR meets the regulatory requirements.\")\n",
    "\n",
    "# Visualization\n",
    "st.subheader(\"Capital Adequacy Over Scenarios\")\n",
    "scenario_names = list(SCENARIOS.keys())\n",
    "car_values = [\n",
    "    perform_stress_test(scenario, initial_capital, initial_rwa, initial_liquidity)[0]\n",
    "    for scenario in scenario_names\n",
    "]\n",
    "\n",
    "plt.figure(figsize=(12, 6))\n",
    "plt.bar(scenario_names, car_values, color=\"skyblue\")\n",
    "plt.axhline(min_car, color=\"red\", linestyle=\"--\", label=\"Regulatory Minimum\")\n",
    "plt.xticks(rotation=45, fontsize=10)\n",
    "plt.ylabel(\"CAR (%)\")\n",
    "plt.title(\"Capital Adequacy Ratio Across Scenarios\")\n",
    "plt.legend()\n",
    "st.pyplot(plt)"
   ]
  },
  {
   "cell_type": "code",
   "execution_count": null,
   "id": "9ac76529-27fd-4463-8e80-650d32d96da4",
   "metadata": {},
   "outputs": [],
   "source": []
  }
 ],
 "metadata": {
  "kernelspec": {
   "display_name": "Python 3 (ipykernel)",
   "language": "python",
   "name": "python3"
  },
  "language_info": {
   "codemirror_mode": {
    "name": "ipython",
    "version": 3
   },
   "file_extension": ".py",
   "mimetype": "text/x-python",
   "name": "python",
   "nbconvert_exporter": "python",
   "pygments_lexer": "ipython3",
   "version": "3.11.7"
  }
 },
 "nbformat": 4,
 "nbformat_minor": 5
}
